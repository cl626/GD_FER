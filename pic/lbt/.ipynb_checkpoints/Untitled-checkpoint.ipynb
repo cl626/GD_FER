{
 "cells": [
  {
   "cell_type": "code",
   "execution_count": 1,
   "id": "ad82285e-04d4-4abb-915b-6419b801be93",
   "metadata": {},
   "outputs": [
    {
     "name": "stdout",
     "output_type": "stream",
     "text": [
      "87.05078125\n",
      "87.40234375 86.328125 88.96484375 87.79296875\n"
     ]
    }
   ],
   "source": [
    "import pickle\n",
    "with open('lr_0_01_ratio_0_01.pkl','rb') as f:\n",
    "    data = pickle.load(f)\n",
    "print(sum(data['accu'][-10:])/10)\n",
    "print(data['accu'][9],data['accu'][19],data['accu'][39],data['accu'][99])"
   ]
  },
  {
   "cell_type": "code",
   "execution_count": 18,
   "id": "d8dbc2c2-d0bf-4629-8128-93b369f2d9b5",
   "metadata": {},
   "outputs": [
    {
     "name": "stdout",
     "output_type": "stream",
     "text": [
      "87.392578125\n",
      "88.671875 87.109375 86.23046875 86.81640625\n"
     ]
    }
   ],
   "source": [
    "with open('lr_0_01_ratio_0_01_newhead_return_beta.pkl','rb') as f:\n",
    "    data = pickle.load(f)\n",
    "print(sum(data['accu'][-10:])/10)\n",
    "print(data['accu'][9],data['accu'][19],data['accu'][39],data['accu'][99])"
   ]
  },
  {
   "cell_type": "code",
   "execution_count": 29,
   "id": "d7b0949e-ccfc-4155-aab5-ef68bdc7677a",
   "metadata": {},
   "outputs": [
    {
     "name": "stdout",
     "output_type": "stream",
     "text": [
      "87.4365234375\n",
      "86.62109375 87.3046875 87.40234375 86.62109375\n"
     ]
    }
   ],
   "source": [
    "with open('lr_0_001_ratio_0_01_newhead_original_beta_alpha.pkl','rb') as f:\n",
    "    data = pickle.load(f)\n",
    "print(sum(data['accu'][-20:])/20)\n",
    "print(data['accu'][9],data['accu'][19],data['accu'][39],data['accu'][99])"
   ]
  },
  {
   "cell_type": "code",
   "execution_count": 28,
   "id": "0bec4b24-4688-4c2a-bb2c-a2bbf686d9a4",
   "metadata": {},
   "outputs": [
    {
     "name": "stdout",
     "output_type": "stream",
     "text": [
      "85.751953125\n",
      "84.5703125 85.05859375 86.42578125 85.25390625\n"
     ]
    }
   ],
   "source": [
    "with open('lr_0.01_ratio_0.01_beta_0.01_alpha_0.0.pkl','rb') as f:\n",
    "    data = pickle.load(f)\n",
    "print(sum(data['accu'][-20:])/20)\n",
    "print(data['accu'][9],data['accu'][19],data['accu'][39],data['accu'][99])"
   ]
  },
  {
   "cell_type": "code",
   "execution_count": 26,
   "id": "68159221-7bc7-4e79-9e5f-b70d93af683f",
   "metadata": {},
   "outputs": [
    {
     "name": "stdout",
     "output_type": "stream",
     "text": [
      "88.125\n",
      "74.70703125 87.109375 87.59765625 88.57421875\n"
     ]
    }
   ],
   "source": [
    "with open('lr_0.01_ratio_0.01_beta_0.1_alpha_0.0.pkl','rb') as f:\n",
    "    data = pickle.load(f)\n",
    "print(sum(data['accu'][-20:])/20)\n",
    "print(data['accu'][9],data['accu'][19],data['accu'][39],data['accu'][99])"
   ]
  },
  {
   "cell_type": "code",
   "execution_count": 27,
   "id": "4029c3b9-75db-48f8-a6d8-de6c9fe6c7a6",
   "metadata": {},
   "outputs": [
    {
     "name": "stdout",
     "output_type": "stream",
     "text": [
      "89.1015625\n",
      "87.79296875 88.8671875 89.16015625 88.671875\n"
     ]
    }
   ],
   "source": [
    "with open('lr_0.01_ratio_0.01_beta_0.001_alpha_0.0.pkl','rb') as f:\n",
    "    data = pickle.load(f)\n",
    "print(sum(data['accu'][-20:])/20)\n",
    "print(data['accu'][9],data['accu'][19],data['accu'][39],data['accu'][99])"
   ]
  },
  {
   "cell_type": "code",
   "execution_count": 32,
   "id": "926f05f3-8aa3-4922-bc39-f994d4527af8",
   "metadata": {},
   "outputs": [
    {
     "name": "stdout",
     "output_type": "stream",
     "text": [
      "87.2314453125\n",
      "86.23046875 86.81640625 87.59765625 86.328125\n"
     ]
    }
   ],
   "source": [
    "with open('lr_0.01_ratio_0.01_beta_0.01_alpha_0.0.pkl','rb') as f:\n",
    "    data = pickle.load(f)\n",
    "print(sum(data['accu'][-20:])/20)\n",
    "print(data['accu'][9],data['accu'][19],data['accu'][39],data['accu'][99])"
   ]
  },
  {
   "cell_type": "code",
   "execution_count": 4,
   "id": "cc3cc9ce-ee5d-4ec7-afeb-d6455c31dff4",
   "metadata": {},
   "outputs": [
    {
     "name": "stdout",
     "output_type": "stream",
     "text": [
      "88.5693359375\n",
      "87.6953125 88.4765625 88.18359375 89.2578125\n"
     ]
    }
   ],
   "source": [
    "with open('lr_0.01_ratio_0.01_beta_0.001_alpha_1e-06.pkl','rb') as f:\n",
    "    data = pickle.load(f)\n",
    "print(sum(data['accu'][-20:])/20)\n",
    "print(data['accu'][9],data['accu'][19],data['accu'][39],data['accu'][99])"
   ]
  },
  {
   "cell_type": "code",
   "execution_count": 6,
   "id": "d43263ce-350f-4b49-8c32-37c487b080cd",
   "metadata": {},
   "outputs": [
    {
     "name": "stdout",
     "output_type": "stream",
     "text": [
      "50.1708984375 1.8989022374153137\n",
      "44.53125 47.8515625 49.12109375 49.31640625\n"
     ]
    }
   ],
   "source": [
    "with open('lr_0.01_ratio_0.01_beta_0.001_alpha_0.1.pkl','rb') as f:\n",
    "    data = pickle.load(f)\n",
    "print(sum(data['accu'][-20:])/20,data['loss'][-1])\n",
    "print(data['accu'][9],data['accu'][19],data['accu'][39],data['accu'][99])"
   ]
  },
  {
   "cell_type": "code",
   "execution_count": 3,
   "id": "e12af371-54ec-4ead-90cb-03e7b3ab8a0c",
   "metadata": {},
   "outputs": [
    {
     "name": "stdout",
     "output_type": "stream",
     "text": [
      "78.6376953125\n",
      "70.3125 77.44140625 75.68359375 77.34375\n"
     ]
    }
   ],
   "source": [
    "with open('lr_0.01_ratio_0.01_beta_0.001_alpha_0.01.pkl','rb') as f:\n",
    "    data = pickle.load(f)\n",
    "print(sum(data['accu'][-20:])/20)\n",
    "print(data['accu'][9],data['accu'][19],data['accu'][39],data['accu'][99])"
   ]
  },
  {
   "cell_type": "code",
   "execution_count": 7,
   "id": "0d5a1bba-2a3c-41b9-8f25-6d87393c8001",
   "metadata": {},
   "outputs": [
    {
     "name": "stdout",
     "output_type": "stream",
     "text": [
      "83.2763671875 0.5831671953201294\n",
      "81.8359375 83.203125 83.0078125 83.0078125\n"
     ]
    }
   ],
   "source": [
    "with open('lr_0.01_ratio_0.01_beta_0.001_alpha_0.001.pkl','rb') as f:\n",
    "    data = pickle.load(f)\n",
    "print(sum(data['accu'][-20:])/20,data['loss'][-1])\n",
    "print(data['accu'][9],data['accu'][19],data['accu'][39],data['accu'][99])"
   ]
  }
 ],
 "metadata": {
  "kernelspec": {
   "display_name": "Python 3 (ipykernel)",
   "language": "python",
   "name": "python3"
  },
  "language_info": {
   "codemirror_mode": {
    "name": "ipython",
    "version": 3
   },
   "file_extension": ".py",
   "mimetype": "text/x-python",
   "name": "python",
   "nbconvert_exporter": "python",
   "pygments_lexer": "ipython3",
   "version": "3.8.10"
  }
 },
 "nbformat": 4,
 "nbformat_minor": 5
}
