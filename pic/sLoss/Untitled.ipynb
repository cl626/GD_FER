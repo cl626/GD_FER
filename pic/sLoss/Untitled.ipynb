{
 "cells": [
  {
   "cell_type": "code",
   "execution_count": 1,
   "id": "a1236265-c5c4-4aff-8fad-a159e1df6f43",
   "metadata": {},
   "outputs": [
    {
     "name": "stdout",
     "output_type": "stream",
     "text": [
      "84.66796875 0.7979939430952072\n",
      "83.30078125 84.66796875 84.9609375 84.66796875\n"
     ]
    }
   ],
   "source": [
    "import pickle\n",
    "with open('Stand_theta_1.0_gamma_0.5_beta_0.001_alpha_0.0.pkl','rb') as f:\n",
    "    data = pickle.load(f)\n",
    "print(sum(data['accu'][-10:])/10,sum(data['loss'][-10:])/10)\n",
    "print(data['accu'][9],data['accu'][19],data['accu'][39],data['accu'][99])"
   ]
  },
  {
   "cell_type": "code",
   "execution_count": 2,
   "id": "3712fcf0-d99c-4bcd-8b7f-c1e629e8f4eb",
   "metadata": {},
   "outputs": [
    {
     "name": "stdout",
     "output_type": "stream",
     "text": [
      "79.98046875 0.8495673894882202\n",
      "80.37109375 80.17578125 79.58984375 79.98046875\n"
     ]
    }
   ],
   "source": [
    "import pickle\n",
    "with open('Stand_ratio_0.0_theta_1.0_gamma_0.5_beta_0.001_alpha_0.0.pkl','rb') as f:\n",
    "    data = pickle.load(f)\n",
    "print(sum(data['accu'][-10:])/10,sum(data['loss'][-10:])/10)\n",
    "print(data['accu'][9],data['accu'][19],data['accu'][39],data['accu'][99])"
   ]
  },
  {
   "cell_type": "code",
   "execution_count": 2,
   "id": "d44836d2-e2b0-4984-9079-2a65626e2033",
   "metadata": {},
   "outputs": [
    {
     "name": "stdout",
     "output_type": "stream",
     "text": [
      "80.76171875 0.7929488480091095\n",
      "81.640625 81.4453125 81.25 80.76171875\n"
     ]
    }
   ],
   "source": [
    "import pickle\n",
    "with open('LAnet_ratio_0.0_theta_1.0_gamma_0.5_beta_0.001_alpha_0.0.pkl','rb') as f:\n",
    "    data = pickle.load(f)\n",
    "print(sum(data['accu'][-10:])/10,sum(data['loss'][-10:])/10)\n",
    "print(data['accu'][9],data['accu'][19],data['accu'][39],data['accu'][99])"
   ]
  },
  {
   "cell_type": "code",
   "execution_count": 3,
   "id": "2c0ec9af-e7b2-4ee2-8c31-b79e7d6c4cf8",
   "metadata": {},
   "outputs": [
    {
     "name": "stdout",
     "output_type": "stream",
     "text": [
      "84.08203125 0.6248341768980026\n",
      "83.984375 84.375 84.375 84.08203125\n"
     ]
    }
   ],
   "source": [
    "import pickle\n",
    "with open('LAnet_ratio_0.01_theta_1.0_gamma_0.5_beta_0.001_alpha_0.0.pkl','rb') as f:\n",
    "    data = pickle.load(f)\n",
    "print(sum(data['accu'][-10:])/10,sum(data['loss'][-10:])/10)\n",
    "print(data['accu'][9],data['accu'][19],data['accu'][39],data['accu'][99])"
   ]
  }
 ],
 "metadata": {
  "kernelspec": {
   "display_name": "Python 3 (ipykernel)",
   "language": "python",
   "name": "python3"
  },
  "language_info": {
   "codemirror_mode": {
    "name": "ipython",
    "version": 3
   },
   "file_extension": ".py",
   "mimetype": "text/x-python",
   "name": "python",
   "nbconvert_exporter": "python",
   "pygments_lexer": "ipython3",
   "version": "3.8.10"
  }
 },
 "nbformat": 4,
 "nbformat_minor": 5
}
