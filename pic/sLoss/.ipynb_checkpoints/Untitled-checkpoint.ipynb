{
 "cells": [
  {
   "cell_type": "code",
   "execution_count": 1,
   "id": "a1236265-c5c4-4aff-8fad-a159e1df6f43",
   "metadata": {},
   "outputs": [
    {
     "name": "stdout",
     "output_type": "stream",
     "text": [
      "83.59375 0.5583635658025742\n",
      "82.51953125 83.3984375 83.10546875 83.59375\n"
     ]
    }
   ],
   "source": [
    "import pickle\n",
    "with open('Stand_theta_1.0_gamma_0.5_beta_0.001_alpha_0.0.pkl','rb') as f:\n",
    "    data = pickle.load(f)\n",
    "print(sum(data['accu'][-10:])/10,sum(data['loss'][-10:])/10)\n",
    "print(data['accu'][9],data['accu'][19],data['accu'][39],data['accu'][99])"
   ]
  },
  {
   "cell_type": "code",
   "execution_count": 1,
   "id": "3712fcf0-d99c-4bcd-8b7f-c1e629e8f4eb",
   "metadata": {},
   "outputs": [
    {
     "name": "stdout",
     "output_type": "stream",
     "text": [
      "79.404296875 0.6877753376960755\n",
      "78.61328125 79.19921875 79.58984375 79.296875\n"
     ]
    }
   ],
   "source": [
    "import pickle\n",
    "with open('Stand_ratio_0.0_theta_1.0_gamma_0.5_beta_0.001_alpha_0.0.pkl','rb') as f:\n",
    "    data = pickle.load(f)\n",
    "print(sum(data['accu'][-10:])/10,sum(data['loss'][-10:])/10)\n",
    "print(data['accu'][9],data['accu'][19],data['accu'][39],data['accu'][99])"
   ]
  }
 ],
 "metadata": {
  "kernelspec": {
   "display_name": "Python 3 (ipykernel)",
   "language": "python",
   "name": "python3"
  },
  "language_info": {
   "codemirror_mode": {
    "name": "ipython",
    "version": 3
   },
   "file_extension": ".py",
   "mimetype": "text/x-python",
   "name": "python",
   "nbconvert_exporter": "python",
   "pygments_lexer": "ipython3",
   "version": "3.8.10"
  }
 },
 "nbformat": 4,
 "nbformat_minor": 5
}
