{
 "cells": [
  {
   "cell_type": "code",
   "execution_count": 8,
   "id": "a1236265-c5c4-4aff-8fad-a159e1df6f43",
   "metadata": {},
   "outputs": [
    {
     "name": "stdout",
     "output_type": "stream",
     "text": [
      "87.099609375 0.4546218916773796\n",
      "87.01171875 87.5 85.83984375 87.20703125\n"
     ]
    }
   ],
   "source": [
    "import pickle\n",
    "with open('theta_0.0_gamma_0.0_beta_0.001.pkl','rb') as f:\n",
    "    data = pickle.load(f)\n",
    "print(sum(data['accu'][-10:])/10,sum(data['loss'][-10:])/10)\n",
    "print(data['accu'][9],data['accu'][19],data['accu'][39],data['accu'][99])"
   ]
  },
  {
   "cell_type": "code",
   "execution_count": 7,
   "id": "3712fcf0-d99c-4bcd-8b7f-c1e629e8f4eb",
   "metadata": {},
   "outputs": [
    {
     "name": "stdout",
     "output_type": "stream",
     "text": [
      "87.099609375 0.5429243683815003\n",
      "87.98828125 87.5 88.18359375 86.1328125\n"
     ]
    }
   ],
   "source": [
    "import pickle\n",
    "with open('theta_1.0_gamma_0.0_beta_0.0.pkl','rb') as f:\n",
    "    data = pickle.load(f)\n",
    "print(sum(data['accu'][-10:])/10,sum(data['loss'][-10:])/10)\n",
    "print(data['accu'][9],data['accu'][19],data['accu'][39],data['accu'][99])"
   ]
  },
  {
   "cell_type": "code",
   "execution_count": 6,
   "id": "eee5d22c-da0a-4eb7-a1aa-a877cb48b09a",
   "metadata": {},
   "outputs": [
    {
     "name": "stdout",
     "output_type": "stream",
     "text": [
      "88.037109375 0.4842017263174057\n",
      "88.4765625 86.9140625 89.0625 87.40234375\n"
     ]
    }
   ],
   "source": [
    "import pickle\n",
    "with open('theta_0.0_gamma_0.5_beta_0.0.pkl','rb') as f:\n",
    "    data = pickle.load(f)\n",
    "print(sum(data['accu'][-10:])/10,sum(data['loss'][-10:])/10)\n",
    "print(data['accu'][9],data['accu'][19],data['accu'][39],data['accu'][99])"
   ]
  },
  {
   "cell_type": "code",
   "execution_count": 9,
   "id": "244e911a-21a0-43a3-9d8d-6eb89416b686",
   "metadata": {},
   "outputs": [
    {
     "name": "stdout",
     "output_type": "stream",
     "text": [
      "86.03515625 0.6440814524888993\n",
      "14.16015625 86.62109375 86.03515625 85.83984375\n"
     ]
    }
   ],
   "source": [
    "import pickle\n",
    "with open('theta_0.0_gamma_0.0_beta_0.0.pkl','rb') as f:\n",
    "    data = pickle.load(f)\n",
    "print(sum(data['accu'][-10:])/10,sum(data['loss'][-10:])/10)\n",
    "print(data['accu'][9],data['accu'][19],data['accu'][39],data['accu'][99])"
   ]
  },
  {
   "cell_type": "code",
   "execution_count": 10,
   "id": "f8167e5d-76f0-44ba-9ec2-c953a0c48942",
   "metadata": {},
   "outputs": [
    {
     "name": "stdout",
     "output_type": "stream",
     "text": [
      "88.26171875 0.47107275724411013\n",
      "87.5 89.35546875 87.6953125 88.28125\n"
     ]
    }
   ],
   "source": [
    "import pickle\n",
    "with open('theta_1.0_gamma_0.0_beta_0.001.pkl','rb') as f:\n",
    "    data = pickle.load(f)\n",
    "print(sum(data['accu'][-10:])/10,sum(data['loss'][-10:])/10)\n",
    "print(data['accu'][9],data['accu'][19],data['accu'][39],data['accu'][99])"
   ]
  },
  {
   "cell_type": "code",
   "execution_count": 11,
   "id": "7e7c2704-ca1a-482e-ac46-31488fa396ef",
   "metadata": {},
   "outputs": [
    {
     "name": "stdout",
     "output_type": "stream",
     "text": [
      "86.787109375 0.5696527287364006\n",
      "84.86328125 85.546875 87.890625 87.3046875\n"
     ]
    }
   ],
   "source": [
    "import pickle\n",
    "with open('theta_0.0_gamma_0.5_beta_0.001.pkl','rb') as f:\n",
    "    data = pickle.load(f)\n",
    "print(sum(data['accu'][-10:])/10,sum(data['loss'][-10:])/10)\n",
    "print(data['accu'][9],data['accu'][19],data['accu'][39],data['accu'][99])"
   ]
  }
 ],
 "metadata": {
  "kernelspec": {
   "display_name": "Python 3 (ipykernel)",
   "language": "python",
   "name": "python3"
  },
  "language_info": {
   "codemirror_mode": {
    "name": "ipython",
    "version": 3
   },
   "file_extension": ".py",
   "mimetype": "text/x-python",
   "name": "python",
   "nbconvert_exporter": "python",
   "pygments_lexer": "ipython3",
   "version": "3.8.10"
  }
 },
 "nbformat": 4,
 "nbformat_minor": 5
}
