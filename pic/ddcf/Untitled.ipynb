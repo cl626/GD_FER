{
 "cells": [
  {
   "cell_type": "code",
   "execution_count": 2,
   "id": "a1236265-c5c4-4aff-8fad-a159e1df6f43",
   "metadata": {},
   "outputs": [
    {
     "name": "stdout",
     "output_type": "stream",
     "text": [
      "91.0546875 0.3931889265775681\n",
      "89.38802083333333 91.86197916666667 91.34114583333333 90.75520833333333\n"
     ]
    }
   ],
   "source": [
    "import pickle\n",
    "with open('LAnet_theta_1.0_gamma_0.5_beta_0.001_alpha_0.0_ratio_0.0.pkl','rb') as f:\n",
    "    data = pickle.load(f)\n",
    "print(sum(data['accu'][-10:])/10,sum(data['loss'][-10:])/10)\n",
    "print(data['accu'][9],data['accu'][19],data['accu'][39],data['accu'][99])"
   ]
  },
  {
   "cell_type": "code",
   "execution_count": 2,
   "id": "8d27242f-2bae-4ad6-9818-4ff1865ba12b",
   "metadata": {},
   "outputs": [
    {
     "name": "stdout",
     "output_type": "stream",
     "text": [
      "91.47786458333334 0.32968401809533443\n",
      "90.49479166666667 91.015625 91.47135416666667 90.95052083333333\n"
     ]
    }
   ],
   "source": [
    "import pickle\n",
    "with open('LAnet_theta_1.0_gamma_0.5_beta_0.001_alpha_0.0_ratio_0.01.pkl','rb') as f:\n",
    "    data = pickle.load(f)\n",
    "print(sum(data['accu'][-10:])/10,sum(data['loss'][-10:])/10)\n",
    "print(data['accu'][9],data['accu'][19],data['accu'][39],data['accu'][99])"
   ]
  },
  {
   "cell_type": "code",
   "execution_count": 2,
   "id": "8e357a38-222f-4c5f-9ef7-a5b7d38e2f74",
   "metadata": {},
   "outputs": [
    {
     "name": "stdout",
     "output_type": "stream",
     "text": [
      "89.78365384615384 0.3286026515639745\n",
      "88.4014423076923 89.36298076923077 89.78365384615384\n"
     ]
    }
   ],
   "source": [
    "import pickle\n",
    "with open('apvit_entire_lr_5e-05_wd_0.0005_contrast.pkl','rb') as f:\n",
    "    data = pickle.load(f)\n",
    "print(sum(data['accu'][-2:])/2,sum(data['loss'][-2:])/2)\n",
    "print(data['accu'][1],data['accu'][3],data['accu'][9])"
   ]
  },
  {
   "cell_type": "code",
   "execution_count": 3,
   "id": "997a6918-17a0-4b0a-bfa2-86e4226a8bda",
   "metadata": {},
   "outputs": [
    {
     "name": "stdout",
     "output_type": "stream",
     "text": [
      "88.46153846153847 0.38212677220312447\n",
      "88.82211538461539 88.46153846153847 88.46153846153847\n"
     ]
    }
   ],
   "source": [
    "import pickle\n",
    "with open('apvit_entire_lr_5e-05_wd_0.0005_no_contrast.pkl','rb') as f:\n",
    "    data = pickle.load(f)\n",
    "print(sum(data['accu'][-2:])/2,sum(data['loss'][-2:])/2)\n",
    "print(data['accu'][1],data['accu'][3],data['accu'][9])"
   ]
  }
 ],
 "metadata": {
  "kernelspec": {
   "display_name": "Python 3 (ipykernel)",
   "language": "python",
   "name": "python3"
  },
  "language_info": {
   "codemirror_mode": {
    "name": "ipython",
    "version": 3
   },
   "file_extension": ".py",
   "mimetype": "text/x-python",
   "name": "python",
   "nbconvert_exporter": "python",
   "pygments_lexer": "ipython3",
   "version": "3.8.10"
  }
 },
 "nbformat": 4,
 "nbformat_minor": 5
}
