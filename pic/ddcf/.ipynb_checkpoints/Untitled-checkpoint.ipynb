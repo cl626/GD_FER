{
 "cells": [
  {
   "cell_type": "code",
   "execution_count": 9,
   "id": "a1236265-c5c4-4aff-8fad-a159e1df6f43",
   "metadata": {},
   "outputs": [
    {
     "name": "stdout",
     "output_type": "stream",
     "text": [
      "93.13858695652173 0.3755803901054289\n",
      "89.60597826086956 93.13858695652173 93.13858695652173\n"
     ]
    }
   ],
   "source": [
    "import pickle\n",
    "with open('apvit_entire_lr_0.001_wd_0.0001_plus_contra.pkl','rb') as f:\n",
    "    data = pickle.load(f)\n",
    "print(sum(data['accu'][-2:])/2,sum(data['loss'][-2:])/2)\n",
    "print(data['accu'][1],data['accu'][3],data['accu'][9])"
   ]
  },
  {
   "cell_type": "code",
   "execution_count": 10,
   "id": "8d27242f-2bae-4ad6-9818-4ff1865ba12b",
   "metadata": {},
   "outputs": [
    {
     "name": "stdout",
     "output_type": "stream",
     "text": [
      "86.0054347826087 0.6862656939369829\n",
      "61.88858695652174 85.7336956521739 86.0054347826087\n"
     ]
    }
   ],
   "source": [
    "import pickle\n",
    "with open('apvit_entire_lr_0.001_wd_0.0001_no_contra.pkl','rb') as f:\n",
    "    data = pickle.load(f)\n",
    "print(sum(data['accu'][-2:])/2,sum(data['loss'][-2:])/2)\n",
    "print(data['accu'][1],data['accu'][3],data['accu'][9])"
   ]
  }
 ],
 "metadata": {
  "kernelspec": {
   "display_name": "Python 3 (ipykernel)",
   "language": "python",
   "name": "python3"
  },
  "language_info": {
   "codemirror_mode": {
    "name": "ipython",
    "version": 3
   },
   "file_extension": ".py",
   "mimetype": "text/x-python",
   "name": "python",
   "nbconvert_exporter": "python",
   "pygments_lexer": "ipython3",
   "version": "3.8.10"
  }
 },
 "nbformat": 4,
 "nbformat_minor": 5
}
