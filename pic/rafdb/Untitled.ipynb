{
 "cells": [
  {
   "cell_type": "markdown",
   "id": "4a99e062-8088-4485-b328-4be3a50375db",
   "metadata": {},
   "source": [
    "## mere IR_50"
   ]
  },
  {
   "cell_type": "code",
   "execution_count": 5,
   "id": "abbd218a-9254-438a-a2e4-dfb20759fc6f",
   "metadata": {},
   "outputs": [
    {
     "name": "stdout",
     "output_type": "stream",
     "text": [
      "83.26480263157895 0.7149925226443692\n",
      "78.14144736842105 83.27302631578948 83.33881578947368\n"
     ]
    }
   ],
   "source": [
    "import pickle\n",
    "with open('model_IR_50_method_Cross_beta_0.5_alpha_0.001_ratio_0.0.pkl','rb') as f:\n",
    "    data = pickle.load(f)\n",
    "print(sum(data['accu'][-2:])/2,sum(data['loss'][-2:])/2)\n",
    "print(data['accu'][3],data['accu'][9],data['accu'][19])"
   ]
  },
  {
   "cell_type": "code",
   "execution_count": 3,
   "id": "a1236265-c5c4-4aff-8fad-a159e1df6f43",
   "metadata": {
    "tags": []
   },
   "outputs": [
    {
     "name": "stdout",
     "output_type": "stream",
     "text": [
      "83.72532894736841 0.6780376548437695\n",
      "82.26973684210526 83.91447368421052 83.8157894736842\n"
     ]
    }
   ],
   "source": [
    "import pickle\n",
    "with open('model_IR_50_method_SupCon_beta_0.5_alpha_0.001_ratio_0.0.pkl','rb') as f:\n",
    "    data = pickle.load(f)\n",
    "print(sum(data['accu'][-2:])/2,sum(data['loss'][-2:])/2)\n",
    "print(data['accu'][3],data['accu'][9],data['accu'][19])"
   ]
  },
  {
   "cell_type": "markdown",
   "id": "cafdec52-ec32-4313-87fb-c0d3d0111f9b",
   "metadata": {},
   "source": [
    "## APViT"
   ]
  },
  {
   "cell_type": "code",
   "execution_count": 3,
   "id": "8d27242f-2bae-4ad6-9818-4ff1865ba12b",
   "metadata": {
    "tags": []
   },
   "outputs": [
    {
     "name": "stdout",
     "output_type": "stream",
     "text": [
      "83.63486842105263 0.8643285265094356\n",
      "83.88157894736842 83.55263157894737 83.66776315789474\n"
     ]
    }
   ],
   "source": [
    "import pickle\n",
    "with open('model_APViT_method_Cross_gamma_0.5_beta_0.001_ratio_0.0.pkl','rb') as f:\n",
    "    data = pickle.load(f)\n",
    "print(sum(data['accu'][-2:])/2,sum(data['loss'][-2:])/2)\n",
    "print(data['accu'][3],data['accu'][9],data['accu'][19])"
   ]
  },
  {
   "cell_type": "code",
   "execution_count": 4,
   "id": "1ce672df-0dda-4f0c-8c2e-4365c03d0156",
   "metadata": {
    "tags": []
   },
   "outputs": [
    {
     "name": "stdout",
     "output_type": "stream",
     "text": [
      "85.27138157894737 0.6823642137411394\n",
      "85.08223684210526 85.32894736842105 85.18092105263158\n"
     ]
    }
   ],
   "source": [
    "import pickle\n",
    "with open('model_APViT_method_Cross_gamma_0.5_beta_0.001_ratio_0.0_ires50.pkl','rb') as f:\n",
    "    data = pickle.load(f)\n",
    "print(sum(data['accu'][-2:])/2,sum(data['loss'][-2:])/2)\n",
    "print(data['accu'][3],data['accu'][9],data['accu'][19])"
   ]
  }
 ],
 "metadata": {
  "kernelspec": {
   "display_name": "Python 3 (ipykernel)",
   "language": "python",
   "name": "python3"
  },
  "language_info": {
   "codemirror_mode": {
    "name": "ipython",
    "version": 3
   },
   "file_extension": ".py",
   "mimetype": "text/x-python",
   "name": "python",
   "nbconvert_exporter": "python",
   "pygments_lexer": "ipython3",
   "version": "3.8.10"
  }
 },
 "nbformat": 4,
 "nbformat_minor": 5
}
