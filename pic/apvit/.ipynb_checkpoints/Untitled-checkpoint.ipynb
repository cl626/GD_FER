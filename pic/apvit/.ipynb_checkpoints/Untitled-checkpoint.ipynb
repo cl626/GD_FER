{
 "cells": [
  {
   "cell_type": "code",
   "execution_count": 4,
   "id": "a1236265-c5c4-4aff-8fad-a159e1df6f43",
   "metadata": {},
   "outputs": [
    {
     "name": "stdout",
     "output_type": "stream",
     "text": [
      "89.9639423076923 0.33530986194305745\n",
      "54.25480769230769 97.71634615384616 97.96875\n"
     ]
    }
   ],
   "source": [
    "import pickle\n",
    "with open('apvit_entire_lr_0.001_wd_1e-05.pkl','rb') as f:\n",
    "    data = pickle.load(f)\n",
    "print(sum(data['accu'][-10:])/10,sum(data['loss'][-10:])/10)\n",
    "print(data['accu'][1],data['accu'][3],data['accu'][9])"
   ]
  }
 ],
 "metadata": {
  "kernelspec": {
   "display_name": "Python 3 (ipykernel)",
   "language": "python",
   "name": "python3"
  },
  "language_info": {
   "codemirror_mode": {
    "name": "ipython",
    "version": 3
   },
   "file_extension": ".py",
   "mimetype": "text/x-python",
   "name": "python",
   "nbconvert_exporter": "python",
   "pygments_lexer": "ipython3",
   "version": "3.8.10"
  }
 },
 "nbformat": 4,
 "nbformat_minor": 5
}
